{
 "cells": [
  {
   "cell_type": "code",
   "execution_count": 4,
   "metadata": {},
   "outputs": [],
   "source": [
    "import pandas as pd\n",
    "data = [['ashwini',10.2],['akhil',6],['ramya',12]]\n",
    "df = pd.DataFrame(data,columns=['Name','Years of experience'])\n",
    "#print(df)\n",
    "\n",
    "df.to_csv('mydata.csv',index=False)# True"
   ]
  },
  {
   "cell_type": "code",
   "execution_count": 2,
   "metadata": {},
   "outputs": [
    {
     "name": "stdout",
     "output_type": "stream",
     "text": [
      "      Name  Years of experience\n",
      "0  ashwini                 10.2\n",
      "1    akhil                  6.0\n",
      "2    ramya                 12.0\n"
     ]
    }
   ],
   "source": [
    "df = pd.read_csv('mydata.csv')\n",
    "print(df)"
   ]
  },
  {
   "cell_type": "code",
   "execution_count": 11,
   "metadata": {},
   "outputs": [
    {
     "name": "stdout",
     "output_type": "stream",
     "text": [
      "      Name  Years of experience\n",
      "0  ashwini                 10.2\n",
      "1    akhil                  6.0\n",
      "2    ramya                 12.0\n"
     ]
    }
   ],
   "source": [
    "import pandas as pd\n",
    "data = [['ashwini',10.2],['akhil',6],['ramya',12]]\n",
    "df = pd.DataFrame(data,columns=['Name','Years of experience'])\n",
    "print(df)\n",
    "\n",
    "df.to_excel('datasheet.xlsx',index=False)\n"
   ]
  },
  {
   "cell_type": "code",
   "execution_count": 12,
   "metadata": {},
   "outputs": [
    {
     "name": "stdout",
     "output_type": "stream",
     "text": [
      "      Name  Years of experience\n",
      "0  ashwini                 10.2\n",
      "1    akhil                  6.0\n",
      "2    ramya                 12.0\n"
     ]
    }
   ],
   "source": [
    "df = pd.read_excel('datasheet.xlsx')\n",
    "print(df)"
   ]
  },
  {
   "cell_type": "code",
   "execution_count": 7,
   "metadata": {},
   "outputs": [
    {
     "name": "stdout",
     "output_type": "stream",
     "text": [
      "Wall time: 5 ms\n"
     ]
    }
   ],
   "source": [
    "import pandas as pd\n",
    "%time temp = pd.read_csv(\"mydata.csv\")"
   ]
  },
  {
   "cell_type": "code",
   "execution_count": 8,
   "metadata": {},
   "outputs": [
    {
     "name": "stdout",
     "output_type": "stream",
     "text": [
      "Wall time: 13 ms\n"
     ]
    }
   ],
   "source": [
    "import dask.dataframe as dd\n",
    "%time df = dd.read_csv(\"mydata.csv\")"
   ]
  },
  {
   "cell_type": "code",
   "execution_count": null,
   "metadata": {},
   "outputs": [],
   "source": []
  }
 ],
 "metadata": {
  "kernelspec": {
   "display_name": "Python 3",
   "language": "python",
   "name": "python3"
  },
  "language_info": {
   "codemirror_mode": {
    "name": "ipython",
    "version": 3
   },
   "file_extension": ".py",
   "mimetype": "text/x-python",
   "name": "python",
   "nbconvert_exporter": "python",
   "pygments_lexer": "ipython3",
   "version": "3.8.5"
  }
 },
 "nbformat": 4,
 "nbformat_minor": 4
}
