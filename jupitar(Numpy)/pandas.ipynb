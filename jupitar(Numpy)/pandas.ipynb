{
 "cells": [
  {
   "cell_type": "code",
   "execution_count": 4,
   "metadata": {},
   "outputs": [
    {
     "name": "stdout",
     "output_type": "stream",
     "text": [
      "Series([], dtype: float64)\n",
      "100     apple\n",
      "101    banana\n",
      "102    cherry\n",
      "103    grapes\n",
      "dtype: object\n"
     ]
    },
    {
     "name": "stderr",
     "output_type": "stream",
     "text": [
      "<ipython-input-4-7d4573c0c98c>:5: DeprecationWarning: The default dtype for empty Series will be 'object' instead of 'float64' in a future version. Specify a dtype explicitly to silence this warning.\n",
      "  s=pd.Series()\n"
     ]
    }
   ],
   "source": [
    "import numpy as np\n",
    "import pandas as pd\n",
    "\n",
    "#import the pandas library and aliasing as pd\n",
    "s = pd.Series()\n",
    "print(s)\n",
    "\n",
    "#creating a series from ndarray\n",
    "data = np.array([\"apple\",\"banana\",\"cherry\",\"grapes\"])\n",
    "s = pd.Series(data, index=[100,101,102,103])\n",
    "print(s)"
   ]
  },
  {
   "cell_type": "code",
   "execution_count": 6,
   "metadata": {},
   "outputs": [
    {
     "name": "stdout",
     "output_type": "stream",
     "text": [
      "0    5\n",
      "1    5\n",
      "2    5\n",
      "3    5\n",
      "dtype: int64\n",
      "apple      fruit\n",
      "donkey    animal\n",
      "count          2\n",
      "dtype: object\n"
     ]
    }
   ],
   "source": [
    "s = pd.Series(5, index=[0,1,2,3])\n",
    "print(s)\n",
    "\n",
    "#create a series from dict\n",
    "data = {'apple':'fruit','donkey':'animal','count':2}\n",
    "seriesfruits = pd.Series(data)\n",
    "print(seriesfruits)"
   ]
  },
  {
   "cell_type": "code",
   "execution_count": 12,
   "metadata": {},
   "outputs": [
    {
     "name": "stdout",
     "output_type": "stream",
     "text": [
      "100     apple\n",
      "101    banana\n",
      "102    cherry\n",
      "103    grapes\n",
      "dtype: object\n",
      "100     apple\n",
      "101    banana\n",
      "dtype: object\n",
      "103    grapes\n",
      "dtype: object\n",
      "fruit\n",
      "2\n"
     ]
    }
   ],
   "source": [
    "#Create a Series from ndarray\n",
    "\n",
    "data = np.array([\"apple\",\"banana\",\"cherry\",\"grapes\"])\n",
    "seriesfruits1 = pd.Series(data, index=[100,101,102,103])\n",
    "print(seriesfruits1)\n",
    "\n",
    "print(seriesfruits1[:2])# 1st 2 elements\n",
    "\n",
    "#retrieve the last element\n",
    "print(seriesfruits1[-1:])\n",
    "\n",
    "print(seriesfruits['apple'])\n",
    "print(seriesfruits['count'])\n",
    "\n"
   ]
  },
  {
   "cell_type": "code",
   "execution_count": 13,
   "metadata": {},
   "outputs": [
    {
     "name": "stdout",
     "output_type": "stream",
     "text": [
      "100     apple\n",
      "101    banana\n",
      "102    cherry\n",
      "103    grapes\n",
      "dtype: object\n",
      "100     apple\n",
      "101    banana\n",
      "dtype: object\n",
      "103    grapes\n",
      "dtype: object\n",
      "fruit\n",
      "2\n",
      "cherry\n",
      "apple\n",
      "banana\n",
      "cherry\n",
      "grapes\n"
     ]
    }
   ],
   "source": [
    "#Create a Series from ndarray\n",
    "\n",
    "data = np.array([\"apple\",\"banana\",\"cherry\",\"grapes\"])\n",
    "seriesfruits1 = pd.Series(data, index=[100,101,102,103])\n",
    "print(seriesfruits1)\n",
    "\n",
    "print(seriesfruits1[:2])# 1st 2 elements\n",
    "\n",
    "#retrieve the last element\n",
    "print(seriesfruits1[-1:])\n",
    "\n",
    "print(seriesfruits['apple'])\n",
    "print(seriesfruits['count'])\n",
    "\n",
    "print(seriesfruits1[102])\n",
    "\n",
    "for item in seriesfruits1:\n",
    "    print(item)"
   ]
  },
  {
   "cell_type": "code",
   "execution_count": 14,
   "metadata": {},
   "outputs": [
    {
     "name": "stdout",
     "output_type": "stream",
     "text": [
      "      Name  Years of experience\n",
      "0  ashwini                 10.4\n",
      "1    akhil                  9.0\n",
      "2    ramya                  6.0\n",
      "      Name  Score\n",
      "0  Praveen     56\n",
      "1   Afsana     78\n",
      "2  Aravind     89\n",
      "3   Harish     20\n"
     ]
    }
   ],
   "source": [
    "#dataframe from lists\n",
    "data = [['ashwini',10.4],['akhil',9],['ramya',6]]\n",
    "df = pd.DataFrame(data,columns=['Name','Years of experience'])\n",
    "\n",
    "#df = pd.DataFrame(data,columns=['Name','Age'],dtype = float)\n",
    "print(df)\n",
    "\n",
    "#DataFrame from Dict of ndarray/ Lists\n",
    "data1 = {'Name':['Praveen','Afsana','Aravind','Harish'],'Score':[56,78,89,20]}\n",
    "df = pd.DataFrame(data1)\n",
    "print(df)"
   ]
  },
  {
   "cell_type": "code",
   "execution_count": 17,
   "metadata": {},
   "outputs": [
    {
     "name": "stdout",
     "output_type": "stream",
     "text": [
      "   id     name   age\n",
      "0   1  ashwini   NaN\n",
      "1   2    ramya  16.0\n",
      "        id     name\n",
      "first    1  ashwini\n",
      "second   2    ramya\n"
     ]
    }
   ],
   "source": [
    "data2 = [{'id':1,'name':'ashwini'},{'id':2,'name':'ramya','age':16}]\n",
    "df = pd.DataFrame(data2) # there is no age value it prints NaN\n",
    "print(df)\n",
    "\n",
    "df1=pd.DataFrame(data2,index=['first','second'],columns=['id','name'])\n",
    "print(df1)"
   ]
  },
  {
   "cell_type": "code",
   "execution_count": 69,
   "metadata": {},
   "outputs": [
    {
     "name": "stdout",
     "output_type": "stream",
     "text": [
      "max is: x    25\n",
      "y    67\n",
      "dtype: int64\n",
      "min is: x    12\n",
      "y    23\n",
      "dtype: int64\n",
      "count is: x    4\n",
      "y    4\n",
      "dtype: int64\n",
      "               x          y\n",
      "count   4.000000   4.000000\n",
      "mean   17.750000  45.000000\n",
      "std     5.619905  17.962925\n",
      "min    12.000000  23.000000\n",
      "25%    14.250000  39.500000\n",
      "50%    17.000000  45.000000\n",
      "75%    20.500000  50.500000\n",
      "max    25.000000  67.000000\n"
     ]
    },
    {
     "data": {
      "text/html": [
       "<div>\n",
       "<style scoped>\n",
       "    .dataframe tbody tr th:only-of-type {\n",
       "        vertical-align: middle;\n",
       "    }\n",
       "\n",
       "    .dataframe tbody tr th {\n",
       "        vertical-align: top;\n",
       "    }\n",
       "\n",
       "    .dataframe thead th {\n",
       "        text-align: right;\n",
       "    }\n",
       "</style>\n",
       "<table border=\"1\" class=\"dataframe\">\n",
       "  <thead>\n",
       "    <tr style=\"text-align: right;\">\n",
       "      <th></th>\n",
       "      <th>x</th>\n",
       "      <th>y</th>\n",
       "      <th>z</th>\n",
       "    </tr>\n",
       "  </thead>\n",
       "  <tbody>\n",
       "    <tr>\n",
       "      <th>0</th>\n",
       "      <td>False</td>\n",
       "      <td>False</td>\n",
       "      <td>False</td>\n",
       "    </tr>\n",
       "    <tr>\n",
       "      <th>1</th>\n",
       "      <td>False</td>\n",
       "      <td>False</td>\n",
       "      <td>False</td>\n",
       "    </tr>\n",
       "    <tr>\n",
       "      <th>2</th>\n",
       "      <td>False</td>\n",
       "      <td>False</td>\n",
       "      <td>False</td>\n",
       "    </tr>\n",
       "  </tbody>\n",
       "</table>\n",
       "</div>"
      ],
      "text/plain": [
       "       x      y      z\n",
       "0  False  False  False\n",
       "1  False  False  False\n",
       "2  False  False  False"
      ]
     },
     "execution_count": 69,
     "metadata": {},
     "output_type": "execute_result"
    }
   ],
   "source": [
    "import pandas as pd\n",
    "#create first Dataframe using dictionary\n",
    "info1 = pd.DataFrame({\"x\":[25,15,12,19],\n",
    "                     \"y\":[45,67,23,45]})\n",
    "# create second dataframe using dictionary\n",
    "info2 = pd.DataFrame({\"x\":[25,15,45],\n",
    "                     \"y\":[47,12,34],\n",
    "                     \"z\":[38,12,45]})\n",
    "\n",
    "#append info2 at end in info1\n",
    "info1.append(info2, ignore_index = True)# ignore_index is take the index continuously without 0,1,2,for next array\n",
    "print(\"max is:\",info1.max())\n",
    "print(\"min is:\",info1.min())\n",
    "print(\"count is:\",info1.count())\n",
    "print(info1.describe())\n",
    "\n",
    "info1.sort_values('x')\n",
    "info1.sort_values('x',ascending=False)\n",
    "\n",
    "info2.head(1)\n",
    "info2.tail(2)\n",
    "info2.isnull()\n",
    "\n",
    "#info1.groupby('x')\n",
    "#for x in range(len(info1)):\n",
    "  #print(info1.Loc[x])"
   ]
  },
  {
   "cell_type": "code",
   "execution_count": 67,
   "metadata": {},
   "outputs": [
    {
     "name": "stdout",
     "output_type": "stream",
     "text": [
      "Course\n",
      "B.Tech    70\n",
      "BE        90\n",
      "M.Tech    20\n",
      "phd       80\n",
      "Name: Percentage, dtype: int64\n"
     ]
    }
   ],
   "source": [
    "import pandas as pd\n",
    "import numpy as np\n",
    "data={'Name':['ashwini','akhil','naveen','rama'],\n",
    "      'Percentage':[90,70,20,80],\n",
    "     'Course':['BE','B.Tech','M.Tech','phd']}\n",
    "df = pd.DataFrame(data)\n",
    "\n",
    "grouped = df.groupby('Course')\n",
    "print(grouped['Percentage'].agg(np.min))"
   ]
  },
  {
   "cell_type": "code",
   "execution_count": 15,
   "metadata": {},
   "outputs": [
    {
     "name": "stdout",
     "output_type": "stream",
     "text": [
      "  student_id     name  Marks\n",
      "0         s1  Ashwini    100\n",
      "1         s2    Ramya     90\n",
      "2         s3    Akhil     89\n",
      "3         s4   Anjali    100\n",
      "4         s5     Arun     90\n",
      "  student_id      name  Marks\n",
      "0         s1    Dinesh    100\n",
      "1         s2       Raj    100\n",
      "2         s3  Priyanka     35\n",
      "3         s4     Omkar     75\n",
      "4         s5       Jim     45\n"
     ]
    },
    {
     "data": {
      "text/html": [
       "<div>\n",
       "<style scoped>\n",
       "    .dataframe tbody tr th:only-of-type {\n",
       "        vertical-align: middle;\n",
       "    }\n",
       "\n",
       "    .dataframe tbody tr th {\n",
       "        vertical-align: top;\n",
       "    }\n",
       "\n",
       "    .dataframe thead th {\n",
       "        text-align: right;\n",
       "    }\n",
       "</style>\n",
       "<table border=\"1\" class=\"dataframe\">\n",
       "  <thead>\n",
       "    <tr style=\"text-align: right;\">\n",
       "      <th></th>\n",
       "      <th>student_id</th>\n",
       "      <th>name</th>\n",
       "      <th>Marks</th>\n",
       "    </tr>\n",
       "  </thead>\n",
       "  <tbody>\n",
       "    <tr>\n",
       "      <th>0</th>\n",
       "      <td>s1</td>\n",
       "      <td>Ashwini</td>\n",
       "      <td>100</td>\n",
       "    </tr>\n",
       "    <tr>\n",
       "      <th>1</th>\n",
       "      <td>s2</td>\n",
       "      <td>Ramya</td>\n",
       "      <td>90</td>\n",
       "    </tr>\n",
       "    <tr>\n",
       "      <th>2</th>\n",
       "      <td>s3</td>\n",
       "      <td>Akhil</td>\n",
       "      <td>89</td>\n",
       "    </tr>\n",
       "    <tr>\n",
       "      <th>3</th>\n",
       "      <td>s4</td>\n",
       "      <td>Anjali</td>\n",
       "      <td>100</td>\n",
       "    </tr>\n",
       "    <tr>\n",
       "      <th>4</th>\n",
       "      <td>s5</td>\n",
       "      <td>Arun</td>\n",
       "      <td>90</td>\n",
       "    </tr>\n",
       "    <tr>\n",
       "      <th>5</th>\n",
       "      <td>s1</td>\n",
       "      <td>Dinesh</td>\n",
       "      <td>100</td>\n",
       "    </tr>\n",
       "    <tr>\n",
       "      <th>6</th>\n",
       "      <td>s2</td>\n",
       "      <td>Raj</td>\n",
       "      <td>100</td>\n",
       "    </tr>\n",
       "    <tr>\n",
       "      <th>7</th>\n",
       "      <td>s3</td>\n",
       "      <td>Priyanka</td>\n",
       "      <td>35</td>\n",
       "    </tr>\n",
       "    <tr>\n",
       "      <th>8</th>\n",
       "      <td>s4</td>\n",
       "      <td>Omkar</td>\n",
       "      <td>75</td>\n",
       "    </tr>\n",
       "    <tr>\n",
       "      <th>9</th>\n",
       "      <td>s5</td>\n",
       "      <td>Jim</td>\n",
       "      <td>45</td>\n",
       "    </tr>\n",
       "  </tbody>\n",
       "</table>\n",
       "</div>"
      ],
      "text/plain": [
       "  student_id      name  Marks\n",
       "0         s1   Ashwini    100\n",
       "1         s2     Ramya     90\n",
       "2         s3     Akhil     89\n",
       "3         s4    Anjali    100\n",
       "4         s5      Arun     90\n",
       "5         s1    Dinesh    100\n",
       "6         s2       Raj    100\n",
       "7         s3  Priyanka     35\n",
       "8         s4     Omkar     75\n",
       "9         s5       Jim     45"
      ]
     },
     "execution_count": 15,
     "metadata": {},
     "output_type": "execute_result"
    }
   ],
   "source": [
    "import pandas as pd\n",
    "student_data1 = {'student_id':['s1','s2','s3','s4','s5'],'name':['Ashwini','Ramya','Akhil','Anjali','Arun'],'Marks':[100,90,89,100,90]}\n",
    "sd = pd.DataFrame(student_data1)\n",
    "print(sd)\n",
    "\n",
    "student_data2 = {'student_id':['s1','s2','s3','s4','s5'],'name':['Dinesh','Raj','Priyanka','Omkar','Jim'],'Marks':[100,100,35,75,45]}\n",
    "sd1 = pd.DataFrame(student_data2)\n",
    "print(sd1)\n",
    "\n",
    "sd.append(sd1,ignore_index=True)# combine two dataframes"
   ]
  },
  {
   "cell_type": "code",
   "execution_count": 14,
   "metadata": {},
   "outputs": [
    {
     "name": "stdout",
     "output_type": "stream",
     "text": [
      "  student_id      name  Marks\n",
      "0         s1   Ashwini    100\n",
      "1         s2     Ramya     90\n",
      "2         s3     Akhil     89\n",
      "3         s4    Anjali    100\n",
      "4         s5      Arun     90\n",
      "0         s1    Dinesh    100\n",
      "1         s2       Raj    100\n",
      "2         s3  Priyanka     35\n",
      "3         s4     Omkar     75\n",
      "4         s5       Jim     45\n"
     ]
    }
   ],
   "source": [
    "import pandas as pd\n",
    "student_data1 =pd.DataFrame( {'student_id':['s1','s2','s3','s4','s5'],'name':['Ashwini','Ramya','Akhil','Anjali','Arun'],'Marks':[100,90,89,100,90]})\n",
    "\n",
    "\n",
    "student_data2 =pd.DataFrame( {'student_id':['s1','s2','s3','s4','s5'],'name':['Dinesh','Raj','Priyanka','Omkar','Jim'],'Marks':[100,100,35,75,45]})\n",
    "\n",
    "\n",
    "result = pd.concat([student_data1,student_data2])\n",
    "print(result)"
   ]
  },
  {
   "cell_type": "code",
   "execution_count": null,
   "metadata": {},
   "outputs": [],
   "source": []
  }
 ],
 "metadata": {
  "kernelspec": {
   "display_name": "Python 3",
   "language": "python",
   "name": "python3"
  },
  "language_info": {
   "codemirror_mode": {
    "name": "ipython",
    "version": 3
   },
   "file_extension": ".py",
   "mimetype": "text/x-python",
   "name": "python",
   "nbconvert_exporter": "python",
   "pygments_lexer": "ipython3",
   "version": "3.8.5"
  }
 },
 "nbformat": 4,
 "nbformat_minor": 4
}
