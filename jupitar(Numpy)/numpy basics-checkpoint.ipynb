{
 "cells": [
  {
   "cell_type": "code",
   "execution_count": 1,
   "metadata": {},
   "outputs": [
    {
     "name": "stdout",
     "output_type": "stream",
     "text": [
      "hello\n"
     ]
    }
   ],
   "source": [
    "print(\"hello\")"
   ]
  },
  {
   "cell_type": "code",
   "execution_count": 7,
   "metadata": {},
   "outputs": [
    {
     "name": "stdout",
     "output_type": "stream",
     "text": [
      "[10 20 30 40]\n",
      "['a' 'b' 'c' 'd']\n",
      "[10.  12.5 15.  17.5 20. ]\n"
     ]
    }
   ],
   "source": [
    "from numpy import *\n",
    "arr1=array([10,20,30,40])\n",
    "print(arr1)\n",
    "arr2=array(['a','b','c','d'])\n",
    "print(arr2)\n",
    "arr3=linspace(10,20,5) # start elemt, end element,equal parts(default is 50)\n",
    "print(arr3)"
   ]
  },
  {
   "cell_type": "code",
   "execution_count": 5,
   "metadata": {},
   "outputs": [
    {
     "name": "stdout",
     "output_type": "stream",
     "text": [
      "10.00 \n",
      "\n",
      "56.23 \n",
      "\n",
      "316.23 \n",
      "\n",
      "1778.28 \n",
      "\n",
      "10000.00 \n",
      "\n"
     ]
    }
   ],
   "source": [
    "from numpy import *\n",
    "arr4=logspace(1,4,5)# it divides 1 to power 10 to 4 to power of 10,into 5 equal parts\n",
    "arr5=logspace(0,1,10)\n",
    "n=len(arr4)\n",
    "\n",
    "for i in range(n):\n",
    "    print('%.2f \\n' %arr4[i])\n",
    "    "
   ]
  },
  {
   "cell_type": "code",
   "execution_count": 10,
   "metadata": {},
   "outputs": [
    {
     "name": "stdout",
     "output_type": "stream",
     "text": [
      "[ 2  4  6  8 10]\n",
      "[0 0 0 0 0]\n",
      "[1. 1. 1. 1. 1.]\n"
     ]
    }
   ],
   "source": [
    "arr6=arange(2,11,2) #it creates an instance of ndarray with evenly spaced values\n",
    "print(arr6)\n",
    "arr7=zeros(5,int) #5 elements\n",
    "print(arr7)\n",
    "\n",
    "arr8=ones(5) # default datatype is float\n",
    "print(arr8)"
   ]
  },
  {
   "cell_type": "code",
   "execution_count": 12,
   "metadata": {},
   "outputs": [
    {
     "name": "stdout",
     "output_type": "stream",
     "text": [
      "Array is of type  <class 'numpy.ndarray'>\n",
      "no.of dimensions 2\n",
      "shape of array (2, 3)\n",
      "Size of array 6\n",
      "array stores elements of type: int32\n"
     ]
    }
   ],
   "source": [
    "arr=array([[1,2,3],[4,5,6]])\n",
    "# printing type of arr object\n",
    "print(\"Array is of type \",type(arr))\n",
    "#printing array dimensions(axes)\n",
    "print(\"no.of dimensions\",arr.ndim)\n",
    "#printing shape of array\n",
    "print(\"shape of array\",arr.shape)#rows and colomns\n",
    "#printing size(total number of elements) of array\n",
    "print(\"Size of array\",arr.size)\n",
    "#print type of elements in array\n",
    "print(\"array stores elements of type:\",arr.dtype)"
   ]
  },
  {
   "cell_type": "code",
   "execution_count": 23,
   "metadata": {},
   "outputs": [
    {
     "name": "stdout",
     "output_type": "stream",
     "text": [
      "[0 1 2 3 4 5 6 7 8 9]\n",
      "[2 4 6]\n",
      "[2 4 6]\n"
     ]
    }
   ],
   "source": [
    "arr9=arange(10)\n",
    "print(arr9)\n",
    "s1=slice(2,7,2)\n",
    "print(arr9[s1])\n",
    "\n",
    "#alternate way\n",
    "s2=arr9[2:7:2]\n",
    "print(s2)"
   ]
  },
  {
   "cell_type": "code",
   "execution_count": 14,
   "metadata": {},
   "outputs": [
    {
     "name": "stdout",
     "output_type": "stream",
     "text": [
      "[1 2 3 4 5 6 7 8 9]\n"
     ]
    }
   ],
   "source": [
    "print(arr9[1:])"
   ]
  },
  {
   "cell_type": "code",
   "execution_count": 20,
   "metadata": {},
   "outputs": [
    {
     "name": "stdout",
     "output_type": "stream",
     "text": [
      "[[1 2 3]\n",
      " [3 4 5]\n",
      " [4 5 6]]\n",
      "the items in the second column are:\n",
      "[2 4 5]\n",
      "the items column 2 onwards are:\n",
      "[[2 3]\n",
      " [4 5]\n",
      " [5 6]]\n",
      "the items in the second row are:\n",
      "[3 4 5]\n",
      "first element:\n",
      "1\n"
     ]
    }
   ],
   "source": [
    "arr10=array([[1,2,3],[3,4,5],[4,5,6]])\n",
    "print(arr10)\n",
    "#returns array of items in the second column\n",
    "print('the items in the second column are:')\n",
    "print(arr10[...,1])#arr10[row,col]\n",
    "\n",
    "#slice all items from column 2 onwords()\n",
    "print('the items column 2 onwards are:')\n",
    "print(arr10[...,1:])\n",
    "      \n",
    "#slicing all items from the second row\n",
    "print('the items in the second row are:')\n",
    "print(arr10[1,...])\n",
    "\n",
    "#get the first element,available at 0,0\n",
    "print('first element:')\n",
    "print(arr10[0,0])\n",
    "      "
   ]
  },
  {
   "cell_type": "code",
   "execution_count": 22,
   "metadata": {},
   "outputs": [
    {
     "name": "stdout",
     "output_type": "stream",
     "text": [
      "[15 25 35 45 55]\n",
      "[  9  18  27  36 -40]\n",
      "After adding 5: [15 25 35 45 55]\n",
      "After subtracting 5: [ 5 15 25 35 45]\n",
      "After multiplying with 5: [ 50 100 150 200 250]\n",
      "After dividing with5: [ 2.  4.  6.  8. 10.]\n",
      "After modulus of 5: [0 0 0 0 0]\n",
      "sin values: [-0.54402111  0.91294525 -0.98803162  0.74511316 -0.26237485]\n",
      "cos values: [-0.83907153  0.40808206  0.15425145 -0.66693806  0.96496603]\n",
      "tan values: [ 0.64836083  2.23716094 -6.4053312  -1.11721493 -0.27190061]\n",
      " Largest values: 50\n",
      "small values: 10\n",
      "sum of all elements: 150\n",
      "average of all elements: 30.0\n"
     ]
    }
   ],
   "source": [
    "from numpy import *\n",
    "arr1=array([10,20,30,40,50])\n",
    "Arr1=arr1+5\n",
    "print(Arr1)\n",
    "\n",
    "arr2=array([10,20,30,40,-35])\n",
    "arr3=array([1,2,3,4,5])\n",
    "arr4=arr2-arr3\n",
    "print(arr4)\n",
    "\n",
    "print(\"After adding 5:\",arr1+5)\n",
    "print(\"After subtracting 5:\",arr1-5)\n",
    "print(\"After multiplying with 5:\",arr1*5)\n",
    "print(\"After dividing with5:\",arr1/5)\n",
    "print(\"After modulus of 5:\",arr1%5)\n",
    "print(\"sin values:\",sin(arr1))\n",
    "print(\"cos values:\",cos(arr1))\n",
    "print(\"tan values:\",tan(arr1))\n",
    "print(\" Largest values:\",max(arr1))\n",
    "print(\"small values:\",min(arr1))\n",
    "print(\"sum of all elements:\",sum(arr1))\n",
    "print(\"average of all elements:\",mean(arr1))"
   ]
  },
  {
   "cell_type": "code",
   "execution_count": 1,
   "metadata": {},
   "outputs": [
    {
     "name": "stdout",
     "output_type": "stream",
     "text": [
      "1.19.2\n"
     ]
    }
   ],
   "source": [
    "# display the version of numpy\n",
    "import numpy as np\n",
    "print(np.__version__)"
   ]
  },
  {
   "cell_type": "code",
   "execution_count": 6,
   "metadata": {},
   "outputs": [
    {
     "name": "stdout",
     "output_type": "stream",
     "text": [
      "[[[[[1 2 3 4 5]]]]]\n",
      "dimensions are: 5\n"
     ]
    }
   ],
   "source": [
    "#display the array dimensions\n",
    "import numpy as np\n",
    "arr1 = np.array([1,2,3,4,5], ndmin=5)# create dimensions for array\n",
    "print(arr1)\n",
    "print(\"dimensions are:\", arr1.ndim)#get dimensions of an array"
   ]
  },
  {
   "cell_type": "code",
   "execution_count": 9,
   "metadata": {},
   "outputs": [
    {
     "name": "stdout",
     "output_type": "stream",
     "text": [
      "8\n"
     ]
    }
   ],
   "source": [
    "#array indexing\n",
    "import numpy as np\n",
    "arr1 = np.array([[1,2,3,4],[6,7,8,9]])\n",
    "print(arr1[1][2])"
   ]
  },
  {
   "cell_type": "code",
   "execution_count": 18,
   "metadata": {},
   "outputs": [
    {
     "name": "stdout",
     "output_type": "stream",
     "text": [
      "1\n",
      "5\n"
     ]
    }
   ],
   "source": [
    "# three dimension arrays\n",
    "import numpy as np\n",
    "arr1 = np.array([[[1,2,3],[4,5,6]],[[8,9,7],[10,11,12]]])\n",
    "print(arr1[0,0,0])\n",
    "print(arr1[0,1,-2])"
   ]
  },
  {
   "cell_type": "code",
   "execution_count": null,
   "metadata": {},
   "outputs": [],
   "source": []
  }
 ],
 "metadata": {
  "kernelspec": {
   "display_name": "Python 3",
   "language": "python",
   "name": "python3"
  },
  "language_info": {
   "codemirror_mode": {
    "name": "ipython",
    "version": 3
   },
   "file_extension": ".py",
   "mimetype": "text/x-python",
   "name": "python",
   "nbconvert_exporter": "python",
   "pygments_lexer": "ipython3",
   "version": "3.8.5"
  }
 },
 "nbformat": 4,
 "nbformat_minor": 4
}
