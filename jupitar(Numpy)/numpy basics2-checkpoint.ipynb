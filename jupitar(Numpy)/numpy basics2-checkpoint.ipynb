{
 "cells": [
  {
   "cell_type": "code",
   "execution_count": 1,
   "metadata": {},
   "outputs": [
    {
     "name": "stdout",
     "output_type": "stream",
     "text": [
      "[10 20 30 40]\n",
      "10\n",
      "20\n",
      "[30 40 50 60]\n",
      "[30]\n",
      "40\n",
      "[40 50 60]\n",
      "[40 50]\n"
     ]
    }
   ],
   "source": [
    "import numpy as np\n",
    "arr = np.array([10,20,30,40,50,60])\n",
    "print(arr[:4])\n",
    "print(arr[0])\n",
    "print(arr[1])\n",
    "print(arr[2:])\n",
    "print(arr[2:3])\n",
    "print(arr[-3])\n",
    "print(arr[-3:])\n",
    "print(arr[-3:-1])\n"
   ]
  },
  {
   "cell_type": "code",
   "execution_count": 2,
   "metadata": {},
   "outputs": [
    {
     "name": "stdout",
     "output_type": "stream",
     "text": [
      "[10 20 30 40 50 60]\n",
      "int16\n",
      "[1.3  2.89 3.89 4.   5.   6.  ]\n",
      "float32\n"
     ]
    }
   ],
   "source": [
    "import numpy as np\n",
    "arr = np.array([10,20,30,40,50,60], dtype='i2') # i 8 it gives int 64 i4 it give int 32s int\n",
    "print(arr)\n",
    "print(arr.dtype)\n",
    "\n",
    "arr = np.array([1.30,2.89,3.89,4,5,6], dtype='f')# f take float32 bit f8=float64\n",
    "print(arr)\n",
    "print(arr.dtype)"
   ]
  },
  {
   "cell_type": "code",
   "execution_count": 3,
   "metadata": {},
   "outputs": [
    {
     "name": "stdout",
     "output_type": "stream",
     "text": [
      "[1.62 2.65 3.83 4.81 5.6  6.89]\n",
      "[1 2 3 4 5 6]\n",
      "int32\n"
     ]
    }
   ],
   "source": [
    "import numpy as np\n",
    "arr = np.array([1.62,2.65,3.83,4.81,5.6,6.89])\n",
    "print(arr)\n",
    "\n",
    "newarr = arr.astype('i') # change the dtype of the array\n",
    "\n",
    "print(newarr)\n",
    "print(newarr.dtype)"
   ]
  },
  {
   "cell_type": "code",
   "execution_count": 4,
   "metadata": {},
   "outputs": [
    {
     "name": "stdout",
     "output_type": "stream",
     "text": [
      "[ 0  1  2 -1]\n",
      "[False  True  True  True]\n",
      "bool\n"
     ]
    }
   ],
   "source": [
    "import numpy as np\n",
    "arr = np.array([0,1,2,-1])# 0 it print false in boolean\n",
    "print(arr)\n",
    "newarr = arr.astype(bool) # change the dtype of the array\n",
    "\n",
    "print(newarr)\n",
    "print(newarr.dtype)"
   ]
  },
  {
   "cell_type": "code",
   "execution_count": 5,
   "metadata": {},
   "outputs": [
    {
     "name": "stdout",
     "output_type": "stream",
     "text": [
      "[1 2 3]\n",
      "[ 8  9 10]\n",
      "[ 1  2  3  8  9 10]\n"
     ]
    }
   ],
   "source": [
    "import numpy as np\n",
    "arr1=np.array([1,2,3])\n",
    "print(arr1)\n",
    "\n",
    "arr2=np.array([8,9,10])\n",
    "print(arr2)\n",
    "\n",
    "newarr = np.concatenate((arr1,arr2))# combine two arrays\n",
    "print(newarr)\n"
   ]
  },
  {
   "cell_type": "code",
   "execution_count": 6,
   "metadata": {},
   "outputs": [
    {
     "name": "stdout",
     "output_type": "stream",
     "text": [
      "[[1 2 3]\n",
      " [2 5 7]]\n",
      "[[ 8  9 10]\n",
      " [ 6  8  9]]\n",
      "[[ 1  2  3  8  9 10]\n",
      " [ 2  5  7  6  8  9]]\n"
     ]
    }
   ],
   "source": [
    "import numpy as np\n",
    "arr1=np.array([[1,2,3],[2,5,7]])\n",
    "print(arr1)\n",
    "\n",
    "arr2=np.array([[8,9,10],[6,8,9]])\n",
    "print(arr2)\n",
    "\n",
    "newarr = np.concatenate((arr1,arr2), axis=1)# along axis we are combine arrays\n",
    "print(newarr)"
   ]
  },
  {
   "cell_type": "code",
   "execution_count": 7,
   "metadata": {},
   "outputs": [
    {
     "name": "stdout",
     "output_type": "stream",
     "text": [
      "[[1 2 3]\n",
      " [2 5 7]]\n",
      "[[ 8  9 10]\n",
      " [ 6  8  9]]\n",
      "[[ 1  2  3]\n",
      " [ 2  5  7]\n",
      " [ 8  9 10]\n",
      " [ 6  8  9]]\n"
     ]
    }
   ],
   "source": [
    "import numpy as np\n",
    "arr1=np.array([[1,2,3],[2,5,7]])\n",
    "print(arr1)\n",
    "\n",
    "arr2=np.array([[8,9,10],[6,8,9]])\n",
    "print(arr2)\n",
    "\n",
    "newarr = np.concatenate((arr1,arr2))#  we are combine arrays\n",
    "print(newarr)"
   ]
  },
  {
   "cell_type": "code",
   "execution_count": null,
   "metadata": {},
   "outputs": [],
   "source": []
  }
 ],
 "metadata": {
  "kernelspec": {
   "display_name": "Python 3",
   "language": "python",
   "name": "python3"
  },
  "language_info": {
   "codemirror_mode": {
    "name": "ipython",
    "version": 3
   },
   "file_extension": ".py",
   "mimetype": "text/x-python",
   "name": "python",
   "nbconvert_exporter": "python",
   "pygments_lexer": "ipython3",
   "version": "3.8.5"
  }
 },
 "nbformat": 4,
 "nbformat_minor": 4
}
