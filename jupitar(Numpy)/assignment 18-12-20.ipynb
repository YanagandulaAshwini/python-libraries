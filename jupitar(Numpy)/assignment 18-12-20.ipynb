{
 "cells": [
  {
   "cell_type": "code",
   "execution_count": 5,
   "metadata": {},
   "outputs": [
    {
     "name": "stdout",
     "output_type": "stream",
     "text": [
      "[ 0  1  2  3  4  5  6  7  8  9 10 11 12 13 14 15 16 17 18 19 20]\n",
      "0\n",
      "2\n",
      "4\n",
      "6\n",
      "8\n",
      "10\n",
      "12\n",
      "14\n",
      "16\n",
      "18\n",
      "20\n"
     ]
    }
   ],
   "source": [
    "#3.write a python program to generate a series of numbers till 20 and display only even numbers\n",
    "import numpy as np\n",
    "\n",
    "arr1 = np.arange(21)\n",
    "print(arr1)\n",
    "\n",
    "for i in arr1:\n",
    "    if i%2 == 0:\n",
    "        print(i)\n",
    "    \n",
    "\n"
   ]
  },
  {
   "cell_type": "code",
   "execution_count": 7,
   "metadata": {},
   "outputs": [
    {
     "name": "stdout",
     "output_type": "stream",
     "text": [
      "[ 0  1  2  3  4  5  6  7  8  9 10 11 12 13 14 15 16 17 18 19 20]\n",
      "11\n",
      "10\n"
     ]
    }
   ],
   "source": [
    "# 4.count of even numbers and odd numbers in array of series of20 numbers\n",
    "import numpy as np\n",
    "\n",
    "arr1 = np.arange(21)\n",
    "print(arr1)\n",
    "\n",
    "even_count=0\n",
    "odd_count=0\n",
    "\n",
    "for i in arr1:\n",
    "    if i%2 == 0:\n",
    "        even_count += 1\n",
    "    else:\n",
    "        odd_count += 1\n",
    "print(even_count)\n",
    "print(odd_count)\n",
    "        "
   ]
  },
  {
   "cell_type": "code",
   "execution_count": 8,
   "metadata": {},
   "outputs": [
    {
     "name": "stdout",
     "output_type": "stream",
     "text": [
      "[ 0.31948585  1.24255756  1.84519728 -1.0923429   1.19135467]\n"
     ]
    }
   ],
   "source": [
    "# 5.write a python program to generate five random numbers from the normol dstribution and display the numbers\n",
    "import numpy as np\n",
    "num = np.random.normal(size=5)\n",
    "print(num)"
   ]
  },
  {
   "cell_type": "code",
   "execution_count": 13,
   "metadata": {},
   "outputs": [
    {
     "name": "stdout",
     "output_type": "stream",
     "text": [
      "a    700\n",
      "b    200\n",
      "c    300\n",
      "d    400\n",
      "e    800\n",
      "dtype: int64\n"
     ]
    }
   ],
   "source": [
    "# 8.program using pandas ,to convert a dictionary to pandas seriess\n",
    "import numpy as np\n",
    "import pandas as pd\n",
    "\n",
    "dict = {'a':700,'b':200,'c':300,'d':400,'e':800}\n",
    "dictseries =pd.Series(dict)\n",
    "print(dictseries)"
   ]
  },
  {
   "cell_type": "code",
   "execution_count": 18,
   "metadata": {},
   "outputs": [
    {
     "name": "stdout",
     "output_type": "stream",
     "text": [
      "0     2\n",
      "1     4\n",
      "2     6\n",
      "3     8\n",
      "4    10\n",
      "dtype: int64\n",
      "addition of series: 0     3\n",
      "1     7\n",
      "2    11\n",
      "3    15\n",
      "4    19\n",
      "dtype: int64\n",
      "subtraction of  series: 0    1\n",
      "1    1\n",
      "2    1\n",
      "3    1\n",
      "4    1\n",
      "dtype: int64\n",
      "multiplication of series: 0     2\n",
      "1    12\n",
      "2    30\n",
      "3    56\n",
      "4    90\n",
      "dtype: int64\n",
      "division of series: 0    2.000000\n",
      "1    1.333333\n",
      "2    1.200000\n",
      "3    1.142857\n",
      "4    1.111111\n",
      "dtype: float64\n"
     ]
    }
   ],
   "source": [
    "#9. perform add,sub,div.mul on two pandas series\n",
    "import pandas as pd\n",
    "list1 = [2,4,6,8,10]\n",
    "list2 = [1,3,5,7,9]\n",
    "\n",
    "series1 = pd.Series(list1)\n",
    "print(series1)\n",
    "series2 = pd.Series(list2)\n",
    "print(series2)\n",
    "\n",
    "addseries = series1 + series2\n",
    "print(\"addition of series:\",addseries)\n",
    "\n",
    "subseries = series1 - series2\n",
    "print(\"subtraction of  series:\",subseries)\n",
    "\n",
    "mulseries = series1 * series2\n",
    "print(\"multiplication of series:\",mulseries)\n",
    "\n",
    "divseries = series1 / series2\n",
    "print(\"division of series:\",divseries)\n",
    "\n",
    "\n"
   ]
  },
  {
   "cell_type": "code",
   "execution_count": 22,
   "metadata": {},
   "outputs": [
    {
     "name": "stdout",
     "output_type": "stream",
     "text": [
      "[[0. 0.]\n",
      " [1. 1.]]\n"
     ]
    }
   ],
   "source": [
    "#6. create a new array of 2*2 integers,without initializing entries.display the array\n",
    "import numpy as np\n",
    "x = np.zeros(2)\n",
    "y = np.ones(2)\n",
    "array = np.array([x,y]) \n",
    "print(array)"
   ]
  },
  {
   "cell_type": "code",
   "execution_count": null,
   "metadata": {},
   "outputs": [],
   "source": [
    "\n",
    "#7.let arr be array[[1,2,3],[4,5,6]]\n",
    "#a."
   ]
  },
  {
   "cell_type": "code",
   "execution_count": null,
   "metadata": {},
   "outputs": [],
   "source": []
  }
 ],
 "metadata": {
  "kernelspec": {
   "display_name": "Python 3",
   "language": "python",
   "name": "python3"
  },
  "language_info": {
   "codemirror_mode": {
    "name": "ipython",
    "version": 3
   },
   "file_extension": ".py",
   "mimetype": "text/x-python",
   "name": "python",
   "nbconvert_exporter": "python",
   "pygments_lexer": "ipython3",
   "version": "3.8.5"
  }
 },
 "nbformat": 4,
 "nbformat_minor": 4
}
