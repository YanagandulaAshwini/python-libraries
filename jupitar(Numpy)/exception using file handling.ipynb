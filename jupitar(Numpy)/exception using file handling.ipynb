{
 "cells": [
  {
   "cell_type": "code",
   "execution_count": 22,
   "metadata": {},
   "outputs": [
    {
     "name": "stdout",
     "output_type": "stream",
     "text": [
      "enter the project code:123\n",
      "enter the start date DD/MM/YYYY12-23-1999\n",
      "Incorrect date and timeformat,that is should be DD/MM/YYYY\n"
     ]
    },
    {
     "data": {
      "text/plain": [
       "'        \\nexcept TimeError as e:\\n      print(\"time format is wrong HH:MM:SS\", e.value)\\n'"
      ]
     },
     "execution_count": 22,
     "metadata": {},
     "output_type": "execute_result"
    }
   ],
   "source": [
    "import datetime\n",
    "'''\n",
    "class TimeError(Exception):\n",
    "    def __init__(self,value)\n",
    "      self.value = value\n",
    "'''\n",
    "\n",
    "try:\n",
    "    date_format = \"%d/%m/%Y\"\n",
    "    time_format = \"%H:%M:%S\"\n",
    "    \n",
    "    ProjectDetails = open(\"ProjectDetails.txt\", \"w\")  \n",
    "    ProjectCode = int(input(\"enter the project code:\"))\n",
    "    StartDate = input(\"enter the start date DD/MM/YYYY\")\n",
    "    \n",
    "    date_object = datetime.datetime.strptime(StartDate,date_format)\n",
    "    ProjectDetails.write(StartDate) \n",
    "    \n",
    "    Description = input(\"enter the description:\")\n",
    "    ProjectDetails.write(Description)\n",
    "    \n",
    "    Department = input(\"enter department :\")\n",
    "    ProjectDetails.write(Department)\n",
    "    \n",
    "    DepartmentHead = input(\"enter the departmenthead:\")\n",
    "    ProjectDetails.write(DepartmentHead)\n",
    "    \n",
    "    Duration = input(\"time duration is:\")\n",
    "    Validtime = datetime.datetime.strptime(Duration,time_format)\n",
    "    ProjectDetails.write(Validtime)\n",
    "    \n",
    "    ProjectDetails.close()\n",
    "    \n",
    "        \n",
    "except ValueError as e:\n",
    "        log = open(\"log_file.txt\", \"w\")\n",
    "        print(\"Incorrect date and timeformat,that is should be DD/MM/YYYY\")\n",
    "        log.write(str(e))\n",
    "        log.close()\n",
    "'''        \n",
    "except TimeError as e:\n",
    "      print(\"time format is wrong HH:MM:SS\", e.value)\n",
    "'''\n"
   ]
  },
  {
   "cell_type": "code",
   "execution_count": 23,
   "metadata": {},
   "outputs": [
    {
     "name": "stdout",
     "output_type": "stream",
     "text": [
      "time data '12-23-1999' does not match format '%d/%m/%Y'\n"
     ]
    }
   ],
   "source": [
    "fo = open(\"log_file.txt\",\"r\")\n",
    "print(fo.read())\n",
    "fo.close()"
   ]
  },
  {
   "cell_type": "code",
   "execution_count": null,
   "metadata": {},
   "outputs": [],
   "source": []
  }
 ],
 "metadata": {
  "kernelspec": {
   "display_name": "Python 3",
   "language": "python",
   "name": "python3"
  },
  "language_info": {
   "codemirror_mode": {
    "name": "ipython",
    "version": 3
   },
   "file_extension": ".py",
   "mimetype": "text/x-python",
   "name": "python",
   "nbconvert_exporter": "python",
   "pygments_lexer": "ipython3",
   "version": "3.8.5"
  }
 },
 "nbformat": 4,
 "nbformat_minor": 4
}
