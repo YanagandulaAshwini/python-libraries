{
 "cells": [
  {
   "cell_type": "code",
   "execution_count": 24,
   "metadata": {},
   "outputs": [
    {
     "name": "stdout",
     "output_type": "stream",
     "text": [
      "welcome\n",
      "<class 'str'>\n",
      "100\n",
      "<class 'int'>\n",
      "100\n",
      "<class 'int'>\n",
      "122\n",
      "<class 'int'>\n"
     ]
    }
   ],
   "source": [
    "from typing import *\n",
    "\n",
    "#install mypy\n",
    "greet = \"welcome\"\n",
    "print(greet)\n",
    "print(type(greet))\n",
    "greet = 100\n",
    "print(greet)\n",
    "print(type(greet))\n",
    "\n",
    "#variable_name:type\n",
    "greeting:str = 100\n",
    "print(greeting)\n",
    "print(type(greeting))\n",
    "greeting =122\n",
    "print(greeting)\n",
    "print(type(greeting))\n",
    "\n",
    "#def function_name(parameter1:type)->return_type:\n",
    "def say_hello(name:str) -> str:\n",
    "    return 'hello' +str"
   ]
  },
  {
   "cell_type": "code",
   "execution_count": 31,
   "metadata": {},
   "outputs": [
    {
     "name": "stdout",
     "output_type": "stream",
     "text": [
      "{'ashwini': 123, 'ramya': 567}\n",
      "[1, 2, 3, 4, 5, 6]\n",
      "[{'key1': 1}, {'key2': 2}]\n",
      "['akhila', 10, 8.29]\n"
     ]
    }
   ],
   "source": [
    "from typing import Dict,List,Tuple\n",
    "#A dictionary where the keys are strings and the values are ints\n",
    "\n",
    "name_counts: Dict[str,int] = {\"ashwini\":123,\"ramya\":567}\n",
    "print(name_counts)                             \n",
    "#A list of integers\n",
    "numbers:List[int] = [1,2,3,4,5,6]\n",
    "print(numbers)\n",
    "#A list that holds dicts that each hold a string key/int value\n",
    "list_of_dicts:List[Dict[str, int]]=[\n",
    "    {\"key1\":1},\n",
    "    {\"key2\":2}\n",
    "]\n",
    "print(list_of_dicts)\n",
    "#mypy typing_test.py\n",
    "#from tping import Tuple\n",
    "my_data:Tuple[str,int,float] = [\"akhila\",10,8.29]\n",
    "print(my_data)"
   ]
  },
  {
   "cell_type": "code",
   "execution_count": null,
   "metadata": {},
   "outputs": [],
   "source": []
  },
  {
   "cell_type": "code",
   "execution_count": null,
   "metadata": {},
   "outputs": [],
   "source": []
  }
 ],
 "metadata": {
  "kernelspec": {
   "display_name": "Python 3",
   "language": "python",
   "name": "python3"
  },
  "language_info": {
   "codemirror_mode": {
    "name": "ipython",
    "version": 3
   },
   "file_extension": ".py",
   "mimetype": "text/x-python",
   "name": "python",
   "nbconvert_exporter": "python",
   "pygments_lexer": "ipython3",
   "version": "3.8.5"
  }
 },
 "nbformat": 4,
 "nbformat_minor": 4
}
