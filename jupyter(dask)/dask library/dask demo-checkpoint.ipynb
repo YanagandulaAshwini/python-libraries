{
 "cells": [
  {
   "cell_type": "code",
   "execution_count": 9,
   "metadata": {},
   "outputs": [
    {
     "data": {
      "text/plain": [
       "((5, 5, 1),)"
      ]
     },
     "execution_count": 9,
     "metadata": {},
     "output_type": "execute_result"
    }
   ],
   "source": [
    "# create a random array using dask array\n",
    "import dask.array as da\n",
    "\n",
    "# using arrange to create an array with values from 0 to 10\n",
    "x = da.arange(11,chunks=5)\n",
    "x.compute()\n",
    "\n",
    "#array([0,1,2,3,4,5,6,7,8,9])\n",
    "\n",
    "# to see size of each chunk\n",
    "x.chunks\n",
    "#o/p ((5,5,1),)"
   ]
  },
  {
   "cell_type": "code",
   "execution_count": 24,
   "metadata": {},
   "outputs": [
    {
     "name": "stdout",
     "output_type": "stream",
     "text": [
      "0\n",
      "1\n",
      "2\n",
      "3\n",
      "4\n",
      "5\n",
      "6\n",
      "7\n",
      "8\n",
      "9\n",
      "10\n",
      "[ 1  2  3  4  5  6  7  8  9 10]\n",
      "[ 0  1  2  3  4  5  6  7  8  9 10]\n",
      "[1 5 9]\n"
     ]
    }
   ],
   "source": [
    "import dask.array as da\n",
    "\n",
    "# using arrange to create an array with values from 0 to 10\n",
    "x = da.arange(11,chunks=5)\n",
    "numpyArr1 = x.compute()\n",
    "\n",
    "# to see size of each chunk\n",
    "x.chunks\n",
    "\n",
    "for num in numpyArr1:\n",
    "    print(num)\n",
    "print(numpyArr1[1::])\n",
    "print(numpyArr1[::])\n",
    "print(numpyArr1[1::4])\n",
    "\n"
   ]
  },
  {
   "cell_type": "code",
   "execution_count": 31,
   "metadata": {},
   "outputs": [
    {
     "name": "stdout",
     "output_type": "stream",
     "text": [
      "[0 1 2 3 4 5 6 7 8 9]\n"
     ]
    },
    {
     "data": {
      "text/plain": [
       "((4, 4, 2),)"
      ]
     },
     "execution_count": 31,
     "metadata": {},
     "output_type": "execute_result"
    }
   ],
   "source": [
    "# converting an numpy array into a dask array\n",
    "import numpy as np\n",
    "import dask.array as da\n",
    "\n",
    "arr1 = np.arange(10)\n",
    "print(arr1) # numpy array\n",
    "\n",
    "daskArr1 = da.from_array(arr1, chunks=4)\n",
    "daskArr1.compute() #results in a dask array\n",
    "\n",
    "daskArr1.chunks\n",
    "\n"
   ]
  },
  {
   "cell_type": "code",
   "execution_count": 36,
   "metadata": {},
   "outputs": [
    {
     "name": "stdout",
     "output_type": "stream",
     "text": [
      "[0 1 2 3 4 5 6 7 8 9]\n",
      "<class 'dask.array.core.Array'>\n"
     ]
    },
    {
     "data": {
      "text/html": [
       "<table>\n",
       "<tr>\n",
       "<td>\n",
       "<table>\n",
       "  <thead>\n",
       "    <tr><td> </td><th> Array </th><th> Chunk </th></tr>\n",
       "  </thead>\n",
       "  <tbody>\n",
       "    <tr><th> Bytes </th><td> 40 B </td> <td> 16 B </td></tr>\n",
       "    <tr><th> Shape </th><td> (10,) </td> <td> (4,) </td></tr>\n",
       "    <tr><th> Count </th><td> 3 Tasks </td><td> 3 Chunks </td></tr>\n",
       "    <tr><th> Type </th><td> int32 </td><td> numpy.ndarray </td></tr>\n",
       "  </tbody>\n",
       "</table>\n",
       "</td>\n",
       "<td>\n",
       "<svg width=\"170\" height=\"88\" style=\"stroke:rgb(0,0,0);stroke-width:1\" >\n",
       "\n",
       "  <!-- Horizontal lines -->\n",
       "  <line x1=\"0\" y1=\"0\" x2=\"120\" y2=\"0\" style=\"stroke-width:2\" />\n",
       "  <line x1=\"0\" y1=\"38\" x2=\"120\" y2=\"38\" style=\"stroke-width:2\" />\n",
       "\n",
       "  <!-- Vertical lines -->\n",
       "  <line x1=\"0\" y1=\"0\" x2=\"0\" y2=\"38\" style=\"stroke-width:2\" />\n",
       "  <line x1=\"48\" y1=\"0\" x2=\"48\" y2=\"38\" />\n",
       "  <line x1=\"96\" y1=\"0\" x2=\"96\" y2=\"38\" />\n",
       "  <line x1=\"120\" y1=\"0\" x2=\"120\" y2=\"38\" style=\"stroke-width:2\" />\n",
       "\n",
       "  <!-- Colored Rectangle -->\n",
       "  <polygon points=\"0.0,0.0 120.0,0.0 120.0,38.596863036086 0.0,38.596863036086\" style=\"fill:#ECB172A0;stroke-width:0\"/>\n",
       "\n",
       "  <!-- Text -->\n",
       "  <text x=\"60.000000\" y=\"58.596863\" font-size=\"1.0rem\" font-weight=\"100\" text-anchor=\"middle\" >10</text>\n",
       "  <text x=\"140.000000\" y=\"19.298432\" font-size=\"1.0rem\" font-weight=\"100\" text-anchor=\"middle\" transform=\"rotate(0,140.000000,19.298432)\">1</text>\n",
       "</svg>\n",
       "</td>\n",
       "</tr>\n",
       "</table>"
      ],
      "text/plain": [
       "dask.array<array, shape=(10,), dtype=int32, chunksize=(4,), chunktype=numpy.ndarray>"
      ]
     },
     "execution_count": 36,
     "metadata": {},
     "output_type": "execute_result"
    }
   ],
   "source": [
    "# converting an numpy array into a dask array\n",
    "import numpy as np\n",
    "import dask.array as da\n",
    "\n",
    "arr1 = np.arange(10)\n",
    "print(arr1) # numpy array\n",
    "\n",
    "daskArr1 = da.from_array(arr1, chunks=4)\n",
    "daskArr1.compute() #results in a dask array\n",
    "print(type(daskArr1)) # type of array it shows\n",
    "type(daskArr1) # type of array it shows\n",
    "\n",
    "daskArr1 # structure is displaying"
   ]
  },
  {
   "cell_type": "code",
   "execution_count": 37,
   "metadata": {},
   "outputs": [
    {
     "name": "stdout",
     "output_type": "stream",
     "text": [
      "[0 1 2 3 4 5 6 7 8 9]\n"
     ]
    },
    {
     "data": {
      "text/plain": [
       "array([0, 1, 2, 3, 4, 5, 6, 7, 8, 9])"
      ]
     },
     "execution_count": 37,
     "metadata": {},
     "output_type": "execute_result"
    }
   ],
   "source": [
    "import numpy as np\n",
    "import dask.array as da\n",
    "\n",
    "arr1 = np.arange(10)\n",
    "print(arr1) # numpy array\n",
    "\n",
    "daskArr1 = da.from_array(arr1, chunks=4)\n",
    "# num1 = daskArr1.mean(axis=0)\n",
    "daskArr1.compute()"
   ]
  },
  {
   "cell_type": "code",
   "execution_count": 70,
   "metadata": {},
   "outputs": [
    {
     "name": "stdout",
     "output_type": "stream",
     "text": [
      "Wall time: 0 ns\n"
     ]
    },
    {
     "data": {
      "text/plain": [
       "49999.5"
      ]
     },
     "execution_count": 70,
     "metadata": {},
     "output_type": "execute_result"
    }
   ],
   "source": [
    "import numpy as np\n",
    "import dask.array as da\n",
    "import time\n",
    "\n",
    "numpyArr1 = np.arange(100000)#numpy array\n",
    "daskArr1 = da.from_array(numpyArr1, chunks=100)\n",
    "%time\n",
    "daskArr1.compute()\n",
    "daskArr1.mean().compute() #computing mean of the array\n",
    "daskArr1.sum().compute()# compute sum of the array\n",
    "\n",
    "numpyArr2 = np.arange(100000)\n",
    "numpyArr2.mean()"
   ]
  },
  {
   "cell_type": "code",
   "execution_count": 69,
   "metadata": {},
   "outputs": [
    {
     "data": {
      "text/plain": [
       "array([[0.97332584, 0.33056398, 0.82342844, ..., 0.50564527, 0.91859559,\n",
       "        0.38411515],\n",
       "       [0.05326062, 0.95235244, 0.69259102, ..., 0.39776141, 0.16602577,\n",
       "        0.50974776],\n",
       "       [0.66522184, 0.89290783, 0.25096811, ..., 0.97219992, 0.84298489,\n",
       "        0.35254929],\n",
       "       ...,\n",
       "       [0.27962231, 0.20260828, 0.79079582, ..., 0.69364329, 0.42834668,\n",
       "        0.89295855],\n",
       "       [0.01848156, 0.66085659, 0.65967106, ..., 0.77665136, 0.28297131,\n",
       "        0.07878013],\n",
       "       [0.13792262, 0.47070594, 0.12597544, ..., 0.28207489, 0.86663509,\n",
       "        0.48416569]])"
      ]
     },
     "execution_count": 69,
     "metadata": {},
     "output_type": "execute_result"
    }
   ],
   "source": [
    "import dask.array as da\n",
    "a = da.random.random((10000,10000), chunks=(1000,1000))\n",
    "a.compute()"
   ]
  },
  {
   "cell_type": "code",
   "execution_count": 38,
   "metadata": {},
   "outputs": [
    {
     "name": "stdout",
     "output_type": "stream",
     "text": [
      "(0, 5, 8)\n",
      "2\n"
     ]
    }
   ],
   "source": [
    "import pandas\n",
    "import dask.dataframe as daskDataFrame\n",
    "person_IDs = [1,2,3,4,5,6,7,8,9]\n",
    "person_first_names = ['ashwini','ramya','akhil','arun','abhi','rakesh','raju','sriram','sruthi']\n",
    "person_last_names = ['yanagandul','bingi','donthi','akula','adupa','junna','vemula','surarapu','kongara']\n",
    "person_DOBs = ['1999-12-26','2005-12-17','2020-12-1','2007-2-3','1999-1-6','1997-2-5','1997-2-19','1996-2-16','1995-2-17']\n",
    "peoplePandasDataFrame = pandas.DataFrame({'Person Id':person_IDs,'First_Names':person_first_names,'Last_Names':person_last_names,'Person_DOBs':person_DOBs},columns=['Person Id','First_Names','Last_Names','Person_DOBs'])\n",
    "#print(peoplePandasDataFrame)# print pandas dataframe\n",
    "\n",
    "# converts the pandas dataframe to dask dataframe\n",
    "peopleDaskDataFrame = daskDataFrame.from_pandas(peoplePandasDataFrame,npartitions=2)\n",
    "#print(peopleDaskDataFrame) # print the converted pandas dataframe to dask dataframe\n",
    "\n",
    "#shows the bounderies of the partitioning scheme,produces the output(0,5,9)\n",
    "print(peopleDaskDataFrame.divisions)\n",
    "\n",
    "#shows how many partitions exist in the DataFrame,produces the output :2,\n",
    "#partition 1 holds 0 to 4 ,partition 2 holds 5 to 8\n",
    "print(peopleDaskDataFrame.npartitions)"
   ]
  },
  {
   "cell_type": "code",
   "execution_count": 39,
   "metadata": {},
   "outputs": [
    {
     "name": "stdout",
     "output_type": "stream",
     "text": [
      "Dask DataFrame Structure:\n",
      "              Person Id First_Names Last_Names Person_DOBs\n",
      "npartitions=2                                             \n",
      "0                 int64      object     object      object\n",
      "5                   ...         ...        ...         ...\n",
      "8                   ...         ...        ...         ...\n",
      "Dask Name: from_pandas, 2 tasks\n"
     ]
    }
   ],
   "source": [
    "#counts the number of rows in each partition\n",
    "peopleDaskDataFrame.map_partitions(len).compute() \n",
    "print(peopleDaskDataFrame)"
   ]
  },
  {
   "cell_type": "code",
   "execution_count": 23,
   "metadata": {},
   "outputs": [
    {
     "name": "stdout",
     "output_type": "stream",
     "text": [
      "0    5\n",
      "1    3\n",
      "dtype: int64\n",
      "0    8\n",
      "dtype: int64\n"
     ]
    }
   ],
   "source": [
    "#filter out people with a last name of     and recount the rows\n",
    "people_filtered = peopleDaskDataFrame[peopleDaskDataFrame['Last_Names']!= 'kongara']# == we can give it display the only kongara last name count\n",
    "print(people_filtered.map_partitions(len).compute())\n",
    "\n",
    "#collapses the two partitions into one\n",
    "people_filtered_reduced = people_filtered.repartition(npartitions=1)\n",
    "print(people_filtered_reduced.map_partitions(len).compute())\n",
    "\n"
   ]
  },
  {
   "cell_type": "code",
   "execution_count": 1,
   "metadata": {},
   "outputs": [
    {
     "name": "stdout",
     "output_type": "stream",
     "text": [
      "<Client: 'tcp://127.0.0.1:60715' processes=4 threads=4, memory=4.21 GB>\n"
     ]
    }
   ],
   "source": [
    "# client -->submit the task to shedulers\n",
    "#shedulers -->will asign thesse tasks to workers\n",
    "# workes --> will execute the task\n",
    "\n",
    "from dask.distributed import Client\n",
    "client = Client()\n",
    "print(client)\n",
    "\n",
    "\n"
   ]
  },
  {
   "cell_type": "code",
   "execution_count": 2,
   "metadata": {},
   "outputs": [
    {
     "name": "stderr",
     "output_type": "stream",
     "text": [
      "C:\\Users\\LENOVO\\anaconda3\\lib\\site-packages\\distributed\\node.py:151: UserWarning: Port 8787 is already in use.\n",
      "Perhaps you already have a cluster running?\n",
      "Hosting the HTTP server on port 60761 instead\n",
      "  warnings.warn(\n"
     ]
    },
    {
     "data": {
      "text/html": [
       "<table style=\"border: 2px solid white;\">\n",
       "<tr>\n",
       "<td style=\"vertical-align: top; border: 0px solid white\">\n",
       "<h3 style=\"text-align: left;\">Client</h3>\n",
       "<ul style=\"text-align: left; list-style: none; margin: 0; padding: 0;\">\n",
       "  <li><b>Scheduler: </b>tcp://127.0.0.1:60764</li>\n",
       "  <li><b>Dashboard: </b><a href='http://127.0.0.1:60761/status' target='_blank'>http://127.0.0.1:60761/status</a></li>\n",
       "</ul>\n",
       "</td>\n",
       "<td style=\"vertical-align: top; border: 0px solid white\">\n",
       "<h3 style=\"text-align: left;\">Cluster</h3>\n",
       "<ul style=\"text-align: left; list-style:none; margin: 0; padding: 0;\">\n",
       "  <li><b>Workers: </b>4</li>\n",
       "  <li><b>Cores: </b>16</li>\n",
       "  <li><b>Memory: </b>4.21 GB</li>\n",
       "</ul>\n",
       "</td>\n",
       "</tr>\n",
       "</table>"
      ],
      "text/plain": [
       "<Client: 'tcp://127.0.0.1:60764' processes=4 threads=16, memory=4.21 GB>"
      ]
     },
     "execution_count": 2,
     "metadata": {},
     "output_type": "execute_result"
    }
   ],
   "source": [
    "# another way to do\n",
    "from distributed import Client\n",
    "client = Client(n_workers=4,threads_per_worker=4)\n",
    "client"
   ]
  },
  {
   "cell_type": "code",
   "execution_count": 30,
   "metadata": {},
   "outputs": [
    {
     "name": "stderr",
     "output_type": "stream",
     "text": [
      "C:\\Users\\LENOVO\\anaconda3\\lib\\site-packages\\distributed\\node.py:151: UserWarning: Port 8787 is already in use.\n",
      "Perhaps you already have a cluster running?\n",
      "Hosting the HTTP server on port 61045 instead\n",
      "  warnings.warn(\n"
     ]
    },
    {
     "name": "stdout",
     "output_type": "stream",
     "text": [
      "Easy\n",
      "<Future: pending, key: hard-c6db839e27c82418a9d9476d919a7fa2>\n"
     ]
    }
   ],
   "source": [
    "import time\n",
    "from distributed import Client,LocalCluster\n",
    "\n",
    "def hard():\n",
    "    time.sleep(5)\n",
    "    return 'Hard'\n",
    "def easy():\n",
    "    time.sleep(2)\n",
    "    return 'Easy'\n",
    "cluster = LocalCluster()\n",
    "client = Client(cluster)\n",
    "future = client.submit(easy)#submit executes the function and return a future object\n",
    "#print(future)\n",
    "print(future.result()) # results() blocks until task completes and data arrives\n",
    "\n",
    "future1 = client.submit(hard)# submit executes the function and return the hard\n",
    "#print(future1) # its not display the output hard\n",
    "print(future1.result())# result() is display the output hard\n",
    "\n"
   ]
  },
  {
   "cell_type": "code",
   "execution_count": 18,
   "metadata": {},
   "outputs": [
    {
     "name": "stdout",
     "output_type": "stream",
     "text": [
      "Wall time: 2 s\n"
     ]
    },
    {
     "data": {
      "text/plain": [
       "20"
      ]
     },
     "execution_count": 18,
     "metadata": {},
     "output_type": "execute_result"
    }
   ],
   "source": [
    "%%time\n",
    "def square(x):\n",
    "    time.sleep(1)\n",
    "    return x*x\n",
    "\n",
    "x_sq = square(2)\n",
    "y_sq = square(4)\n",
    "\n",
    "res = x_sq + y_sq\n",
    "res   "
   ]
  },
  {
   "cell_type": "code",
   "execution_count": 31,
   "metadata": {},
   "outputs": [
    {
     "name": "stdout",
     "output_type": "stream",
     "text": [
      "Wall time: 2.19 s\n"
     ]
    },
    {
     "data": {
      "text/plain": [
       "Delayed('add-a336c5eee671ba6cee7243fa44f7cefa')"
      ]
     },
     "execution_count": 31,
     "metadata": {},
     "output_type": "execute_result"
    }
   ],
   "source": [
    "%%time\n",
    "from dask import delayed\n",
    "\n",
    "x_sq = delayed(square(2)) # delayed(square)(2)\n",
    "y_sq = delayed(square(4)) #delayed(square)(4)\n",
    "\n",
    "res = x_sq + y_sq\n",
    "res  # if we didnt give compute it doesn't display addition\n",
    "#%time res.compute()# compute() it gives output\n"
   ]
  },
  {
   "cell_type": "code",
   "execution_count": 24,
   "metadata": {},
   "outputs": [],
   "source": [
    "#!pip install graphviz\n",
    "#res.visualize() # graphical representation"
   ]
  },
  {
   "cell_type": "code",
   "execution_count": 42,
   "metadata": {},
   "outputs": [
    {
     "name": "stdout",
     "output_type": "stream",
     "text": [
      "Wall time: 15.7 s\n"
     ]
    },
    {
     "data": {
      "text/plain": [
       "1445"
      ]
     },
     "execution_count": 42,
     "metadata": {},
     "output_type": "execute_result"
    }
   ],
   "source": [
    "%%time\n",
    "def square(x):\n",
    "    time.sleep(1)# sleep for 1 sec\n",
    "    return x*x\n",
    "\n",
    "def power_3(x):\n",
    "    time.sleep(2)\n",
    "    return x*x*x\n",
    "\n",
    "final_list = []\n",
    "for i in range(1,11):\n",
    "    if i%2 == 0:\n",
    "        final_list.append(square(i))\n",
    "    else:\n",
    "        final_list.append(power_3(i))\n",
    "        \n",
    "res = sum(final_list)\n",
    "res"
   ]
  },
  {
   "cell_type": "code",
   "execution_count": 52,
   "metadata": {},
   "outputs": [
    {
     "name": "stdout",
     "output_type": "stream",
     "text": [
      "Wall time: 20.5 s\n",
      "Wall time: 20.6 s\n"
     ]
    },
    {
     "data": {
      "text/plain": [
       "1445"
      ]
     },
     "execution_count": 52,
     "metadata": {},
     "output_type": "execute_result"
    }
   ],
   "source": [
    "%%time\n",
    "@delayed #  using delayed decorator\n",
    "def square(x):\n",
    "    #time.sleep(1)# sleep for 1 sec\n",
    "    return x*x\n",
    "\n",
    "@delayed\n",
    "def power_3(x):\n",
    "    #time.sleep(1)\n",
    "    return x*x*x\n",
    "\n",
    "final_list = []\n",
    "for i in range(1,11):\n",
    "    if i%2 == 0:\n",
    "        final_list.append(square(i))\n",
    "    else:\n",
    "        final_list.append(power_3(i))\n",
    "        \n",
    "res = delayed(sum)(final_list)\n",
    "res\n",
    "%time res.compute()"
   ]
  },
  {
   "cell_type": "code",
   "execution_count": null,
   "metadata": {},
   "outputs": [],
   "source": []
  }
 ],
 "metadata": {
  "kernelspec": {
   "display_name": "Python 3",
   "language": "python",
   "name": "python3"
  },
  "language_info": {
   "codemirror_mode": {
    "name": "ipython",
    "version": 3
   },
   "file_extension": ".py",
   "mimetype": "text/x-python",
   "name": "python",
   "nbconvert_exporter": "python",
   "pygments_lexer": "ipython3",
   "version": "3.8.5"
  }
 },
 "nbformat": 4,
 "nbformat_minor": 4
}
